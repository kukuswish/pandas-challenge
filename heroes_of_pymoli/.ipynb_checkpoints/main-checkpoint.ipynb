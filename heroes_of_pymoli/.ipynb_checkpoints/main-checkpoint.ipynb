{
 "cells": [
  {
   "cell_type": "code",
   "execution_count": 3,
   "metadata": {},
   "outputs": [],
   "source": [
    "# Import Dependencies\n",
    "import pandas as pd\n",
    "import numpy as np"
   ]
  },
  {
   "cell_type": "code",
   "execution_count": 286,
   "metadata": {},
   "outputs": [
    {
     "data": {
      "text/plain": [
       "7"
      ]
     },
     "execution_count": 286,
     "metadata": {},
     "output_type": "execute_result"
    }
   ],
   "source": [
    "# Create reference to CSV file\n",
    "csv_path = \"Resources/purchase_data.csv\"\n",
    "\n",
    "# Import the CSV into a pandas DataFrame\n",
    "p_data = pd.read_csv(csv_path, low_memory=False)\n",
    "p_data.head()"
   ]
  },
  {
   "cell_type": "code",
   "execution_count": 21,
   "metadata": {},
   "outputs": [
    {
     "name": "stdout",
     "output_type": "stream",
     "text": [
      "Player Count: 576\n"
     ]
    }
   ],
   "source": [
    "#Get Player COunt\n",
    "player_count = len(p_data['SN'].unique())\n",
    "print(f\"Player Count: {player_count}\")"
   ]
  },
  {
   "cell_type": "code",
   "execution_count": 41,
   "metadata": {},
   "outputs": [
    {
     "name": "stdout",
     "output_type": "stream",
     "text": [
      "Unique Items: 179\n",
      "Average Purchase Price: $3.05\n",
      "Total Purchases: 780\n",
      "Total Purchases: $2,379.77\n"
     ]
    }
   ],
   "source": [
    "#Purchasing Analysis (Total)\n",
    "unique_items = len(p_data['Item Name'].unique())\n",
    "average_pr_price = '${:,.2f}'.format(p_data['Price'].mean())\n",
    "purchase_count = len(p_data)\n",
    "total_revenue = '${:,.2f}'.format(p_data['Price'].sum())\n",
    "\n",
    "print(f\"Unique Items: {unique_items}\")\n",
    "print(f\"Average Purchase Price: {average_pr_price}\")\n",
    "print(f\"Total Purchases: {purchase_count}\")\n",
    "print(f\"Total Purchases: {total_revenue}\")"
   ]
  },
  {
   "cell_type": "code",
   "execution_count": 235,
   "metadata": {},
   "outputs": [
    {
     "data": {
      "text/html": [
       "<div>\n",
       "<style scoped>\n",
       "    .dataframe tbody tr th:only-of-type {\n",
       "        vertical-align: middle;\n",
       "    }\n",
       "\n",
       "    .dataframe tbody tr th {\n",
       "        vertical-align: top;\n",
       "    }\n",
       "\n",
       "    .dataframe thead th {\n",
       "        text-align: right;\n",
       "    }\n",
       "</style>\n",
       "<table border=\"1\" class=\"dataframe\">\n",
       "  <thead>\n",
       "    <tr style=\"text-align: right;\">\n",
       "      <th></th>\n",
       "      <th>Count</th>\n",
       "      <th>Percentage</th>\n",
       "    </tr>\n",
       "    <tr>\n",
       "      <th>Gender</th>\n",
       "      <th></th>\n",
       "      <th></th>\n",
       "    </tr>\n",
       "  </thead>\n",
       "  <tbody>\n",
       "    <tr>\n",
       "      <th>Female</th>\n",
       "      <td>81</td>\n",
       "      <td>14.062500</td>\n",
       "    </tr>\n",
       "    <tr>\n",
       "      <th>Male</th>\n",
       "      <td>484</td>\n",
       "      <td>84.027778</td>\n",
       "    </tr>\n",
       "    <tr>\n",
       "      <th>Other / Non-Disclosed</th>\n",
       "      <td>11</td>\n",
       "      <td>1.909722</td>\n",
       "    </tr>\n",
       "  </tbody>\n",
       "</table>\n",
       "</div>"
      ],
      "text/plain": [
       "                       Count  Percentage\n",
       "Gender                                  \n",
       "Female                    81   14.062500\n",
       "Male                     484   84.027778\n",
       "Other / Non-Disclosed     11    1.909722"
      ]
     },
     "execution_count": 235,
     "metadata": {},
     "output_type": "execute_result"
    }
   ],
   "source": [
    "#Gender Demographics\n",
    "\n",
    "grouped= p_data.groupby('Gender').SN.nunique()\n",
    "grouped.head()\n",
    "grouped= pd.DataFrame(grouped)\n",
    "grouped = grouped.rename(columns={'SN': 'Count'})\n",
    "grouped['Percentage'] = grouped['Count'].astype('float')/grouped['Count'].sum()*100\n",
    "grouped"
   ]
  },
  {
   "cell_type": "code",
   "execution_count": 285,
   "metadata": {},
   "outputs": [
    {
     "data": {
      "text/html": [
       "<div>\n",
       "<style scoped>\n",
       "    .dataframe tbody tr th:only-of-type {\n",
       "        vertical-align: middle;\n",
       "    }\n",
       "\n",
       "    .dataframe tbody tr th {\n",
       "        vertical-align: top;\n",
       "    }\n",
       "\n",
       "    .dataframe thead th {\n",
       "        text-align: right;\n",
       "    }\n",
       "</style>\n",
       "<table border=\"1\" class=\"dataframe\">\n",
       "  <thead>\n",
       "    <tr style=\"text-align: right;\">\n",
       "      <th></th>\n",
       "      <th>Total Purchase Value</th>\n",
       "      <th>Purchase Count</th>\n",
       "      <th>Average Purchase Price</th>\n",
       "    </tr>\n",
       "    <tr>\n",
       "      <th>Gender</th>\n",
       "      <th></th>\n",
       "      <th></th>\n",
       "      <th></th>\n",
       "    </tr>\n",
       "  </thead>\n",
       "  <tbody>\n",
       "    <tr>\n",
       "      <th>Female</th>\n",
       "      <td>361.94</td>\n",
       "      <td>81</td>\n",
       "      <td>4.468395</td>\n",
       "    </tr>\n",
       "    <tr>\n",
       "      <th>Male</th>\n",
       "      <td>1967.64</td>\n",
       "      <td>484</td>\n",
       "      <td>4.065372</td>\n",
       "    </tr>\n",
       "    <tr>\n",
       "      <th>Other / Non-Disclosed</th>\n",
       "      <td>50.19</td>\n",
       "      <td>11</td>\n",
       "      <td>4.562727</td>\n",
       "    </tr>\n",
       "  </tbody>\n",
       "</table>\n",
       "</div>"
      ],
      "text/plain": [
       "                       Total Purchase Value  Purchase Count  \\\n",
       "Gender                                                        \n",
       "Female                               361.94              81   \n",
       "Male                                1967.64             484   \n",
       "Other / Non-Disclosed                 50.19              11   \n",
       "\n",
       "                       Average Purchase Price  \n",
       "Gender                                         \n",
       "Female                               4.468395  \n",
       "Male                                 4.065372  \n",
       "Other / Non-Disclosed                4.562727  "
      ]
     },
     "execution_count": 285,
     "metadata": {},
     "output_type": "execute_result"
    }
   ],
   "source": [
    "#Purchasing Analysis\n",
    "pA = p_data.groupby(\"Gender\").agg({\"Price\": np.sum, \"SN\": pd.Series.nunique})\n",
    "pA = pA.rename(columns={\"SN\": 'Purchase Count', \"Price\": \"Total Purchase Value\"})\n",
    "pA['Average Purchase Price']= pA['Total Purchase Value']/pA['Purchase Count']\n",
    "pA"
   ]
  },
  {
   "cell_type": "code",
   "execution_count": null,
   "metadata": {},
   "outputs": [],
   "source": [
    "# Create bins in which to place values based upon TED Talk views\n",
    "bins=[0, 10, 21, 31,  100]\n",
    "# Create labels for these bins\n",
    "gnames=['< 10 Years Old','10 - 20', '21-30','30 and Above']"
   ]
  }
 ],
 "metadata": {
  "kernelspec": {
   "display_name": "Python 3",
   "language": "python",
   "name": "python3"
  },
  "language_info": {
   "codemirror_mode": {
    "name": "ipython",
    "version": 3
   },
   "file_extension": ".py",
   "mimetype": "text/x-python",
   "name": "python",
   "nbconvert_exporter": "python",
   "pygments_lexer": "ipython3",
   "version": "3.6.6"
  }
 },
 "nbformat": 4,
 "nbformat_minor": 2
}
